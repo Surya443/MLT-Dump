{
 "cells": [
  {
   "cell_type": "code",
   "execution_count": 1,
   "id": "5fb32f86",
   "metadata": {},
   "outputs": [],
   "source": [
    "import pandas as pd\n",
    "data = pd.read_csv('Wine.csv')"
   ]
  },
  {
   "cell_type": "code",
   "execution_count": 2,
   "id": "379b8363",
   "metadata": {},
   "outputs": [],
   "source": [
    "x = data.iloc[:,:-1].values\n",
    "y = data.iloc[:,-1].values"
   ]
  },
  {
   "cell_type": "code",
   "execution_count": 4,
   "id": "985ecd48",
   "metadata": {},
   "outputs": [],
   "source": [
    "from sklearn.feature_selection import chi2\n",
    "f_p_values = chi2(x,y)"
   ]
  },
  {
   "cell_type": "code",
   "execution_count": 7,
   "id": "7feb7220",
   "metadata": {},
   "outputs": [],
   "source": [
    "f_p_values[1].sort()"
   ]
  },
  {
   "cell_type": "code",
   "execution_count": 10,
   "id": "7fd81c77",
   "metadata": {},
   "outputs": [
    {
     "data": {
      "text/plain": [
       "array([7.43380598e-01, 1.81548480e+00, 5.18253981e+00, 5.44549882e+00,\n",
       "       9.36828307e+00, 1.56230759e+01, 2.33898834e+01, 2.80686046e+01,\n",
       "       2.93836955e+01, 4.50263809e+01, 6.33343081e+01, 1.09016647e+02,\n",
       "       1.65400671e+04])"
      ]
     },
     "execution_count": 10,
     "metadata": {},
     "output_type": "execute_result"
    }
   ],
   "source": [
    "f_p_values[0]"
   ]
  },
  {
   "cell_type": "code",
   "execution_count": null,
   "id": "49a3e65f",
   "metadata": {},
   "outputs": [],
   "source": []
  }
 ],
 "metadata": {
  "kernelspec": {
   "display_name": "Python 3 (ipykernel)",
   "language": "python",
   "name": "python3"
  },
  "language_info": {
   "codemirror_mode": {
    "name": "ipython",
    "version": 3
   },
   "file_extension": ".py",
   "mimetype": "text/x-python",
   "name": "python",
   "nbconvert_exporter": "python",
   "pygments_lexer": "ipython3",
   "version": "3.9.12"
  }
 },
 "nbformat": 4,
 "nbformat_minor": 5
}
