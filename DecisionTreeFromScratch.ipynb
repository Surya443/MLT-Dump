{
 "cells": [
  {
   "cell_type": "code",
   "execution_count": 24,
   "id": "54c018a2",
   "metadata": {},
   "outputs": [],
   "source": [
    "import numpy as np\n",
    "import pandas as pd\n",
    "from sklearn import datasets\n",
    "\n",
    "data=datasets.load_iris()"
   ]
  },
  {
   "cell_type": "code",
   "execution_count": 25,
   "id": "d0f53d68",
   "metadata": {},
   "outputs": [],
   "source": [
    "X=data.data[:]\n",
    "y=data.target"
   ]
  },
  {
   "cell_type": "code",
   "execution_count": 78,
   "id": "cf05fb0d",
   "metadata": {},
   "outputs": [],
   "source": [
    "class Node():\n",
    "    def __init__(self,feature=None,threshold=None,left=None,right=None,gain=None,value=None):\n",
    "        #constructor to create a node \n",
    "        \n",
    "        #if not a leaf node:\n",
    "        self.feature_index=feature\n",
    "        self.threshold=threshold\n",
    "        self.left=left\n",
    "        self.right=right\n",
    "        self.info_gain=gain\n",
    "        \n",
    "        #if it is a leaf node, above values are left null\n",
    "        self.value=value"
   ]
  },
  {
   "cell_type": "code",
   "execution_count": 79,
   "id": "b6310562",
   "metadata": {},
   "outputs": [],
   "source": [
    "class DecisionTree():\n",
    "    \n",
    "    def __init__(self,min_samples=2,max_depth=2):\n",
    "        self.min_samples=min_samples #if there is only min samples number of points, no need to divide further\n",
    "        self.max_depth=max_depth #pruning the tree\n",
    "    \n",
    "    def build_tree(self,dataset, current_depth=0):\n",
    "        X=dataset[:,:-1]\n",
    "        y=dataset[:,-1]\n",
    "        n_samples, n_features = X.shape #rows and columns\n",
    "        if n_samples>self.min_samples and current_depth<self.max_depth:#stopping conditions\n",
    "            best_split=self.get_best_split(dataset,n_samples,n_features)\n",
    "            \n",
    "            if (best_split[\"info_gain\"]>0): # if= 0 , pure class, no need to split further\n",
    "                left_node=self.build_tree(best_split['left_dataset'],current_depth+1)\n",
    "                right_node=self.build_tree(best_split['right_dataset'],current_depth+1)\n",
    "            \n",
    "                return Node(best_split[\"feature_index\"],best_split[\"threshold\"],left_node,right_node,best_split[\"info_gain\"])#create a new node with the feature  index, threshold,info gain and the left and right subtrees attached to it \n",
    "        \n",
    "        \n",
    "        #if it is a leaf node\n",
    "        \n",
    "        leaf_value=self.calculate_leaf_value(y)\n",
    "        return Node(value=leaf_value) #create a leaf node with just the class labels\n",
    "    \n",
    "    def get_best_split(self,dataset,num_samples,num_features):\n",
    "        best_split={} #dictionary to return the required fields\n",
    "        max_info_gain=-float('inf')\n",
    "        \n",
    "        for feature_index in range(num_features): #in each column\n",
    "            feature_values=dataset[:,feature_index] #selecting the column\n",
    "            possible_thresholds=np.unique(feature_values) #possible unique values that can be used as a threshold\n",
    "            \n",
    "            for threshold in possible_thresholds: #for each threshold\n",
    "                left_set, right_set=self.split(dataset, feature_index,threshold) #get the less than and greater than rows from the column\n",
    "                \n",
    "                if len(left_set)>0 and len(right_set>0): #if both left and right exist, compute information gain on that split\n",
    "                    y,left_y,right_y=dataset[:,-1],left_set[:,-1],right_set[:,-1]\n",
    "                    \n",
    "                    curr_info_gain=self.information_gain(y,left_y,right_y)\n",
    "                    \n",
    "                    if curr_info_gain>max_info_gain: #if it is greater than the current max info gain, update the dictionary\n",
    "                        best_split[\"feature_index\"]=feature_index\n",
    "                        best_split[\"threshold\"]=threshold\n",
    "                        best_split[\"left_dataset\"]=left_set\n",
    "                        best_split[\"right_dataset\"]=right_set\n",
    "                        best_split[\"info_gain\"]=curr_info_gain\n",
    "                        max_info_gain=curr_info_gain\n",
    "                        \n",
    "                        #repeat the process for all thresholds and all columns\n",
    "        \n",
    "        return best_split\n",
    "    \n",
    "    \n",
    "    def split(self,dataset,feature_index,threshold): #getting less than and greater than rows\n",
    "        \n",
    "        dataset_left=np.array([row for row in dataset if row[feature_index]<=threshold])\n",
    "        dataset_right=np.array([row for row in dataset if row[feature_index]>threshold])\n",
    "        \n",
    "        return dataset_left,dataset_right\n",
    "    \n",
    "    def information_gain(self,parent,l_child,r_child):\n",
    "        \n",
    "        weight_l=len(l_child)/len(parent)\n",
    "        weight_r=len(r_child)/len(parent)\n",
    "        \n",
    "        gain=self.gini_index(parent)-(weight_l*self.gini_index(l_child)+weight_r*self.gini_index(r_child))\n",
    "        \n",
    "        return gain\n",
    "    \n",
    "    def gini_index(self,y):\n",
    "        \n",
    "        class_labels=np.unique(y)\n",
    "        gini=0\n",
    "        for cls in class_labels:\n",
    "            p_cls=len(y[y==cls])/len(y)\n",
    "            gini+=p_cls**2\n",
    "        gini=1-gini\n",
    "        return gini\n",
    "    \n",
    "    def calculate_leaf_value(self,Y): #when info gain becomes zero/depth reaches max, assign label of max number of y values to that leaf node\n",
    "        \n",
    "        Y=list(Y)\n",
    "        \n",
    "        return max(Y,key=Y.count)\n",
    "        \n",
    "        \n",
    "    def print_tree(self, tree=None, indent=\" \"):\n",
    "        ''' function to print the tree '''\n",
    "        \n",
    "        if not tree:\n",
    "            tree = self.root\n",
    "\n",
    "        if tree.value is not None:\n",
    "            print(tree.value)\n",
    "\n",
    "        else:\n",
    "            print(\"X_\"+str(tree.feature_index), \"<=\", tree.threshold, \"?\", tree.info_gain)\n",
    "            print(\"%sleft:\" % (indent), end=\"\")\n",
    "            self.print_tree(tree.left, indent + indent)\n",
    "            print(\"%sright:\" % (indent), end=\"\")\n",
    "            self.print_tree(tree.right, indent + indent)\n",
    "    \n",
    "    def fit(self, X, Y):\n",
    "        ''' function to train the tree '''\n",
    "        \n",
    "        dataset = np.concatenate((X, Y), axis=1)\n",
    "        self.root = self.build_tree(dataset)\n",
    "    \n",
    "    def predict(self, X):\n",
    "        ''' function to predict new dataset '''\n",
    "        \n",
    "        predictions = [self.make_prediction(x, self.root) for x in X]\n",
    "        return predictions\n",
    "    \n",
    "    def make_prediction(self, x, tree):\n",
    "        ''' function to predict a single data point '''\n",
    "        \n",
    "        if tree.value!=None: return tree.value\n",
    "        feature_val = x[tree.feature_index]\n",
    "        if feature_val<=tree.threshold:\n",
    "            return self.make_prediction(x, tree.left)\n",
    "        else:\n",
    "            return self.make_prediction(x, tree.right)\n",
    "\n",
    "            "
   ]
  },
  {
   "cell_type": "code",
   "execution_count": 38,
   "id": "fa3a0e30",
   "metadata": {},
   "outputs": [],
   "source": [
    "from sklearn.model_selection import train_test_split"
   ]
  },
  {
   "cell_type": "code",
   "execution_count": 39,
   "id": "17d50bc1",
   "metadata": {},
   "outputs": [],
   "source": [
    "X_train, X_test, y_train, y_test = train_test_split(X, y, test_size=0.33, random_state=42)"
   ]
  },
  {
   "cell_type": "code",
   "execution_count": 80,
   "id": "be138a0f",
   "metadata": {},
   "outputs": [],
   "source": [
    "model=DecisionTree(min_samples=3,max_depth=3)"
   ]
  },
  {
   "cell_type": "code",
   "execution_count": 81,
   "id": "c9c1eab3",
   "metadata": {},
   "outputs": [],
   "source": [
    "model.fit(X_train,y_train.reshape(-1,1))"
   ]
  },
  {
   "cell_type": "code",
   "execution_count": 82,
   "id": "cd3bc8a9",
   "metadata": {},
   "outputs": [
    {
     "name": "stdout",
     "output_type": "stream",
     "text": [
      "X_2 <= 1.9 ? 0.32087246376811596\n",
      " left:0.0\n",
      " right:X_3 <= 1.7 ? 0.3681068842808487\n",
      "  left:X_2 <= 5.1 ? 0.08895044629116648\n",
      "    left:1.0\n",
      "    right:2.0\n",
      "  right:X_2 <= 4.8 ? 0.01942421089143239\n",
      "    left:2.0\n",
      "    right:2.0\n"
     ]
    }
   ],
   "source": [
    "model.print_tree()"
   ]
  },
  {
   "cell_type": "code",
   "execution_count": 83,
   "id": "73ae701a",
   "metadata": {},
   "outputs": [],
   "source": [
    "y_pred=model.predict(X_test)"
   ]
  },
  {
   "cell_type": "code",
   "execution_count": 86,
   "id": "58ab5f79",
   "metadata": {},
   "outputs": [
    {
     "name": "stdout",
     "output_type": "stream",
     "text": [
      "              precision    recall  f1-score   support\n",
      "\n",
      "           0       1.00      1.00      1.00        19\n",
      "           1       0.94      1.00      0.97        15\n",
      "           2       1.00      0.94      0.97        16\n",
      "\n",
      "    accuracy                           0.98        50\n",
      "   macro avg       0.98      0.98      0.98        50\n",
      "weighted avg       0.98      0.98      0.98        50\n",
      "\n"
     ]
    }
   ],
   "source": [
    "from sklearn.metrics import classification_report\n",
    "print(classification_report(y_test,y_pred))"
   ]
  }
 ],
 "metadata": {
  "kernelspec": {
   "display_name": "Python 3 (ipykernel)",
   "language": "python",
   "name": "python3"
  },
  "language_info": {
   "codemirror_mode": {
    "name": "ipython",
    "version": 3
   },
   "file_extension": ".py",
   "mimetype": "text/x-python",
   "name": "python",
   "nbconvert_exporter": "python",
   "pygments_lexer": "ipython3",
   "version": "3.9.13"
  }
 },
 "nbformat": 4,
 "nbformat_minor": 5
}
