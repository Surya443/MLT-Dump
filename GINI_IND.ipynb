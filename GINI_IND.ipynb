{
 "cells": [
  {
   "cell_type": "markdown",
   "id": "2d544602",
   "metadata": {},
   "source": [
    "# Calculating Gini impurity"
   ]
  },
  {
   "cell_type": "code",
   "execution_count": 1,
   "id": "ae6cb190",
   "metadata": {},
   "outputs": [],
   "source": [
    "def gini_imp(col):\n",
    "    sum=[]\n",
    "    freq=df[col].value_counts()\n",
    "    len=df.shape[0]\n",
    "    for i in freq:\n",
    "        sum.append(i/len)\n",
    "    return sum"
   ]
  },
  {
   "cell_type": "markdown",
   "id": "928809fd",
   "metadata": {},
   "source": [
    "# Calculating Gini Index"
   ]
  },
  {
   "cell_type": "code",
   "execution_count": 2,
   "id": "56a68f7e",
   "metadata": {},
   "outputs": [],
   "source": [
    "def gini_index(col):\n",
    "    sum=0\n",
    "    l=[]\n",
    "    for i in df[col].unique():\n",
    "        count=(df[col]==i).sum()\n",
    "        freq=df[\"Purchased\"][df[col]==i].value_counts()\n",
    "        for j in freq:\n",
    "            sum+=(j/count)**2\n",
    "        sum=1-sum\n",
    "        l.append(abs(sum))\n",
    "    return l"
   ]
  },
  {
   "cell_type": "markdown",
   "id": "86a4cbaa",
   "metadata": {},
   "source": [
    "# Calculating Weighted Average"
   ]
  },
  {
   "cell_type": "code",
   "execution_count": 5,
   "id": "9f80bcfe",
   "metadata": {},
   "outputs": [],
   "source": [
    "def weighted_avg(col):\n",
    "    a=gini_imp(col)\n",
    "    b= gini_index(col)\n",
    "    wa=np.dot(a,b)\n",
    "    return wa"
   ]
  },
  {
   "cell_type": "markdown",
   "id": "117269eb",
   "metadata": {},
   "source": [
    "# Weighted Average for the column Age and EstimatedSalary"
   ]
  },
  {
   "cell_type": "code",
   "execution_count": 6,
   "id": "ea031a0e",
   "metadata": {},
   "outputs": [
    {
     "name": "stdout",
     "output_type": "stream",
     "text": [
      "Gini index value for column Age  0.20596620000567817\n",
      "Gini index value for column Age  0.9453149893596864\n"
     ]
    }
   ],
   "source": [
    "import pandas as pd\n",
    "import numpy as np\n",
    "df=pd.read_csv(r\"C:\\Users\\DELL\\Downloads\\classification.csv\")\n",
    "\n",
    "print(\"Gini index value for column Age \",weighted_avg(\"Age\"))\n",
    "print(\"Gini index value for column EstimatedSalary \",weighted_avg(\"EstimatedSalary\"))\n"
   ]
  },
  {
   "cell_type": "code",
   "execution_count": null,
   "id": "bc04eddb",
   "metadata": {},
   "outputs": [],
   "source": []
  }
 ],
 "metadata": {
  "kernelspec": {
   "display_name": "Python 3 (ipykernel)",
   "language": "python",
   "name": "python3"
  },
  "language_info": {
   "codemirror_mode": {
    "name": "ipython",
    "version": 3
   },
   "file_extension": ".py",
   "mimetype": "text/x-python",
   "name": "python",
   "nbconvert_exporter": "python",
   "pygments_lexer": "ipython3",
   "version": "3.9.13"
  }
 },
 "nbformat": 4,
 "nbformat_minor": 5
}
